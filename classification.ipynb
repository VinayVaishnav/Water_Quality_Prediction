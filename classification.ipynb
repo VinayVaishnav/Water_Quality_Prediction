{
 "cells": [
  {
   "cell_type": "markdown",
   "id": "2f587151-64cf-4f7e-b319-0f266b86852a",
   "metadata": {},
   "source": [
    "## Importing the modules & libraries"
   ]
  },
  {
   "cell_type": "code",
   "execution_count": 1,
   "id": "f5def577",
   "metadata": {
    "tags": []
   },
   "outputs": [],
   "source": [
    "import numpy as np\n",
    "import pandas as pd\n",
    "import matplotlib.pyplot as plt\n",
    "import seaborn as sns\n",
    "from statistics import mode\n",
    "\n",
    "import warnings\n",
    "warnings.filterwarnings('ignore')"
   ]
  },
  {
   "cell_type": "code",
   "execution_count": 2,
   "id": "07d22144",
   "metadata": {
    "tags": []
   },
   "outputs": [
    {
     "name": "stderr",
     "output_type": "stream",
     "text": [
      "Intel(R) Extension for Scikit-learn* enabled (https://github.com/intel/scikit-learn-intelex)\n"
     ]
    }
   ],
   "source": [
    "import sklearn\n",
    "from sklearnex import patch_sklearn\n",
    "patch_sklearn()\n",
    "\n",
    "from sklearn.model_selection import GridSearchCV, train_test_split as tts\n",
    "from sklearn.metrics import f1_score, confusion_matrix, accuracy_score\n",
    "from sklearn.linear_model import LogisticRegression\n",
    "from sklearn.tree import DecisionTreeClassifier\n",
    "from sklearn.neural_network import MLPClassifier"
   ]
  },
  {
   "cell_type": "code",
   "execution_count": 3,
   "id": "602b2d1a",
   "metadata": {
    "tags": []
   },
   "outputs": [],
   "source": [
    "from xgboost import XGBClassifier"
   ]
  },
  {
   "cell_type": "code",
   "execution_count": 4,
   "id": "5f422cb5-f3d3-44e8-8ab1-bc53de08ab9d",
   "metadata": {},
   "outputs": [],
   "source": [
    "import torch\n",
    "import intel_extension_for_pytorch as ipex"
   ]
  },
  {
   "cell_type": "code",
   "execution_count": 5,
   "id": "9bb0082a",
   "metadata": {},
   "outputs": [],
   "source": [
    "from pytorch_tabnet.tab_model import TabNetClassifier"
   ]
  },
  {
   "cell_type": "code",
   "execution_count": 6,
   "id": "db742b59",
   "metadata": {
    "tags": []
   },
   "outputs": [],
   "source": [
    "def plot_confusion_matrix(y_true, y_pred):\n",
    "    '''\n",
    "    Input: (actual labels, predicted labels)\n",
    "    \n",
    "    Displays the confustion matrix heatmap of the input confusion matrix\n",
    "    '''\n",
    "    conf_mat = confusion_matrix(y_true, y_pred)\n",
    "    group_names = ['True Negatives','False Postives','False Negatives','True Positives']\n",
    "    group_counts = [f'{value}' for value in conf_mat.flatten()]\n",
    "    group_percentages = [f'{round(value*100, 5)}%' for value in conf_mat.flatten()/np.sum(conf_mat)]\n",
    "    labels = [f'{v1}\\n{v2}\\n{v3}' for v1, v2, v3 in zip(group_names, group_counts, group_percentages)]\n",
    "    labels = np.asarray(labels).reshape(2,2)\n",
    "    sns.heatmap(conf_mat, annot=labels, fmt='', cmap='Blues')\n"
   ]
  },
  {
   "cell_type": "markdown",
   "id": "6eab1bc4-2359-4abe-a117-85041e0f692e",
   "metadata": {},
   "source": [
    "## Reading the preprocessed data"
   ]
  },
  {
   "cell_type": "code",
   "execution_count": 7,
   "id": "322d777f",
   "metadata": {
    "tags": []
   },
   "outputs": [],
   "source": [
    "df = pd.read_csv(\"preprocessed_water.csv\")"
   ]
  },
  {
   "cell_type": "code",
   "execution_count": 9,
   "id": "18d0f949-a13b-4f3c-8b33-5f949c40e816",
   "metadata": {
    "tags": []
   },
   "outputs": [
    {
     "data": {
      "text/html": [
       "<div>\n",
       "<style scoped>\n",
       "    .dataframe tbody tr th:only-of-type {\n",
       "        vertical-align: middle;\n",
       "    }\n",
       "\n",
       "    .dataframe tbody tr th {\n",
       "        vertical-align: top;\n",
       "    }\n",
       "\n",
       "    .dataframe thead th {\n",
       "        text-align: right;\n",
       "    }\n",
       "</style>\n",
       "<table border=\"1\" class=\"dataframe\">\n",
       "  <thead>\n",
       "    <tr style=\"text-align: right;\">\n",
       "      <th></th>\n",
       "      <th>pH</th>\n",
       "      <th>Iron</th>\n",
       "      <th>Nitrate</th>\n",
       "      <th>Chloride</th>\n",
       "      <th>Lead</th>\n",
       "      <th>Zinc</th>\n",
       "      <th>Color</th>\n",
       "      <th>Turbidity</th>\n",
       "      <th>Fluoride</th>\n",
       "      <th>Copper</th>\n",
       "      <th>Odor</th>\n",
       "      <th>Sulfate</th>\n",
       "      <th>Conductivity</th>\n",
       "      <th>Chlorine</th>\n",
       "      <th>Manganese</th>\n",
       "      <th>Total Dissolved Solids</th>\n",
       "      <th>Source</th>\n",
       "      <th>Water Temperature</th>\n",
       "      <th>Air Temperature</th>\n",
       "      <th>Target</th>\n",
       "    </tr>\n",
       "  </thead>\n",
       "  <tbody>\n",
       "    <tr>\n",
       "      <th>0</th>\n",
       "      <td>6.917863</td>\n",
       "      <td>0.000081</td>\n",
       "      <td>3.734167</td>\n",
       "      <td>227.029851</td>\n",
       "      <td>7.849262e-94</td>\n",
       "      <td>1.245317</td>\n",
       "      <td>2</td>\n",
       "      <td>0.019007</td>\n",
       "      <td>0.622874</td>\n",
       "      <td>0.437835</td>\n",
       "      <td>1.686049</td>\n",
       "      <td>144.010981</td>\n",
       "      <td>432.844908</td>\n",
       "      <td>3.292038</td>\n",
       "      <td>8.024076e-07</td>\n",
       "      <td>284.641984</td>\n",
       "      <td>2</td>\n",
       "      <td>15.348981</td>\n",
       "      <td>71.220586</td>\n",
       "      <td>0</td>\n",
       "    </tr>\n",
       "    <tr>\n",
       "      <th>1</th>\n",
       "      <td>5.443762</td>\n",
       "      <td>0.020106</td>\n",
       "      <td>3.816994</td>\n",
       "      <td>230.995630</td>\n",
       "      <td>5.286616e-76</td>\n",
       "      <td>0.528280</td>\n",
       "      <td>3</td>\n",
       "      <td>0.319956</td>\n",
       "      <td>0.423423</td>\n",
       "      <td>0.431588</td>\n",
       "      <td>3.414619</td>\n",
       "      <td>275.702107</td>\n",
       "      <td>990.201209</td>\n",
       "      <td>3.560224</td>\n",
       "      <td>7.007989e-02</td>\n",
       "      <td>570.054094</td>\n",
       "      <td>4</td>\n",
       "      <td>11.643467</td>\n",
       "      <td>44.891330</td>\n",
       "      <td>0</td>\n",
       "    </tr>\n",
       "    <tr>\n",
       "      <th>2</th>\n",
       "      <td>8.091909</td>\n",
       "      <td>0.002167</td>\n",
       "      <td>9.925788</td>\n",
       "      <td>186.540872</td>\n",
       "      <td>4.171069e-132</td>\n",
       "      <td>3.807511</td>\n",
       "      <td>3</td>\n",
       "      <td>0.004867</td>\n",
       "      <td>0.222912</td>\n",
       "      <td>0.616574</td>\n",
       "      <td>0.795310</td>\n",
       "      <td>175.275175</td>\n",
       "      <td>385.025855</td>\n",
       "      <td>3.177849</td>\n",
       "      <td>3.296139e-03</td>\n",
       "      <td>168.075545</td>\n",
       "      <td>5</td>\n",
       "      <td>15.249416</td>\n",
       "      <td>69.336671</td>\n",
       "      <td>0</td>\n",
       "    </tr>\n",
       "    <tr>\n",
       "      <th>3</th>\n",
       "      <td>7.445251</td>\n",
       "      <td>0.000006</td>\n",
       "      <td>1.702584</td>\n",
       "      <td>162.828458</td>\n",
       "      <td>6.102202e-23</td>\n",
       "      <td>3.742464</td>\n",
       "      <td>1</td>\n",
       "      <td>0.504791</td>\n",
       "      <td>0.054562</td>\n",
       "      <td>0.851326</td>\n",
       "      <td>1.270483</td>\n",
       "      <td>40.853403</td>\n",
       "      <td>273.359662</td>\n",
       "      <td>3.957842</td>\n",
       "      <td>2.863952e-04</td>\n",
       "      <td>365.639045</td>\n",
       "      <td>6</td>\n",
       "      <td>13.966842</td>\n",
       "      <td>45.444798</td>\n",
       "      <td>0</td>\n",
       "    </tr>\n",
       "    <tr>\n",
       "      <th>4</th>\n",
       "      <td>8.132455</td>\n",
       "      <td>0.055262</td>\n",
       "      <td>4.288010</td>\n",
       "      <td>94.993978</td>\n",
       "      <td>2.919909e-52</td>\n",
       "      <td>1.770221</td>\n",
       "      <td>3</td>\n",
       "      <td>0.021703</td>\n",
       "      <td>1.111893</td>\n",
       "      <td>0.247116</td>\n",
       "      <td>0.426404</td>\n",
       "      <td>146.073521</td>\n",
       "      <td>265.530096</td>\n",
       "      <td>1.706755</td>\n",
       "      <td>3.083768e-02</td>\n",
       "      <td>266.079565</td>\n",
       "      <td>0</td>\n",
       "      <td>27.920380</td>\n",
       "      <td>68.104498</td>\n",
       "      <td>0</td>\n",
       "    </tr>\n",
       "    <tr>\n",
       "      <th>...</th>\n",
       "      <td>...</td>\n",
       "      <td>...</td>\n",
       "      <td>...</td>\n",
       "      <td>...</td>\n",
       "      <td>...</td>\n",
       "      <td>...</td>\n",
       "      <td>...</td>\n",
       "      <td>...</td>\n",
       "      <td>...</td>\n",
       "      <td>...</td>\n",
       "      <td>...</td>\n",
       "      <td>...</td>\n",
       "      <td>...</td>\n",
       "      <td>...</td>\n",
       "      <td>...</td>\n",
       "      <td>...</td>\n",
       "      <td>...</td>\n",
       "      <td>...</td>\n",
       "      <td>...</td>\n",
       "      <td>...</td>\n",
       "    </tr>\n",
       "    <tr>\n",
       "      <th>5120105</th>\n",
       "      <td>7.336513</td>\n",
       "      <td>0.000799</td>\n",
       "      <td>3.807672</td>\n",
       "      <td>89.956213</td>\n",
       "      <td>4.258296e-34</td>\n",
       "      <td>3.027267</td>\n",
       "      <td>2</td>\n",
       "      <td>0.010288</td>\n",
       "      <td>0.745372</td>\n",
       "      <td>0.186357</td>\n",
       "      <td>2.585437</td>\n",
       "      <td>145.362834</td>\n",
       "      <td>533.374053</td>\n",
       "      <td>2.553024</td>\n",
       "      <td>1.428103e-02</td>\n",
       "      <td>1.634232</td>\n",
       "      <td>2</td>\n",
       "      <td>18.610969</td>\n",
       "      <td>82.445237</td>\n",
       "      <td>1</td>\n",
       "    </tr>\n",
       "    <tr>\n",
       "      <th>5120106</th>\n",
       "      <td>8.161283</td>\n",
       "      <td>0.000015</td>\n",
       "      <td>6.552120</td>\n",
       "      <td>309.134213</td>\n",
       "      <td>3.368973e-44</td>\n",
       "      <td>2.127818</td>\n",
       "      <td>3</td>\n",
       "      <td>0.201469</td>\n",
       "      <td>3.419696</td>\n",
       "      <td>3.170538</td>\n",
       "      <td>1.931928</td>\n",
       "      <td>43.043399</td>\n",
       "      <td>366.349236</td>\n",
       "      <td>3.180415</td>\n",
       "      <td>7.086033e-04</td>\n",
       "      <td>19.767936</td>\n",
       "      <td>6</td>\n",
       "      <td>26.160882</td>\n",
       "      <td>45.900772</td>\n",
       "      <td>1</td>\n",
       "    </tr>\n",
       "    <tr>\n",
       "      <th>5120107</th>\n",
       "      <td>8.418457</td>\n",
       "      <td>0.000095</td>\n",
       "      <td>8.427576</td>\n",
       "      <td>256.570863</td>\n",
       "      <td>4.751543e-26</td>\n",
       "      <td>4.967504</td>\n",
       "      <td>2</td>\n",
       "      <td>3.824532</td>\n",
       "      <td>0.541850</td>\n",
       "      <td>0.284838</td>\n",
       "      <td>0.299860</td>\n",
       "      <td>371.261098</td>\n",
       "      <td>339.150786</td>\n",
       "      <td>2.630130</td>\n",
       "      <td>9.608234e-03</td>\n",
       "      <td>545.990529</td>\n",
       "      <td>7</td>\n",
       "      <td>21.436974</td>\n",
       "      <td>70.493951</td>\n",
       "      <td>1</td>\n",
       "    </tr>\n",
       "    <tr>\n",
       "      <th>5120108</th>\n",
       "      <td>7.950573</td>\n",
       "      <td>0.215729</td>\n",
       "      <td>4.677850</td>\n",
       "      <td>292.727780</td>\n",
       "      <td>4.679421e-12</td>\n",
       "      <td>1.842063</td>\n",
       "      <td>1</td>\n",
       "      <td>1.181166</td>\n",
       "      <td>2.747241</td>\n",
       "      <td>1.367155</td>\n",
       "      <td>3.749374</td>\n",
       "      <td>198.070171</td>\n",
       "      <td>521.505506</td>\n",
       "      <td>3.555576</td>\n",
       "      <td>1.875424e-11</td>\n",
       "      <td>514.136530</td>\n",
       "      <td>1</td>\n",
       "      <td>19.064632</td>\n",
       "      <td>67.052475</td>\n",
       "      <td>1</td>\n",
       "    </tr>\n",
       "    <tr>\n",
       "      <th>5120109</th>\n",
       "      <td>7.539523</td>\n",
       "      <td>0.022760</td>\n",
       "      <td>4.902591</td>\n",
       "      <td>106.256430</td>\n",
       "      <td>1.399449e-10</td>\n",
       "      <td>1.069694</td>\n",
       "      <td>3</td>\n",
       "      <td>0.371766</td>\n",
       "      <td>0.995846</td>\n",
       "      <td>1.665171</td>\n",
       "      <td>2.530943</td>\n",
       "      <td>79.593261</td>\n",
       "      <td>282.713146</td>\n",
       "      <td>6.033203</td>\n",
       "      <td>2.838596e-01</td>\n",
       "      <td>118.556879</td>\n",
       "      <td>0</td>\n",
       "      <td>6.594036</td>\n",
       "      <td>51.751181</td>\n",
       "      <td>1</td>\n",
       "    </tr>\n",
       "  </tbody>\n",
       "</table>\n",
       "<p>5120110 rows × 20 columns</p>\n",
       "</div>"
      ],
      "text/plain": [
       "               pH      Iron   Nitrate    Chloride           Lead      Zinc   \n",
       "0        6.917863  0.000081  3.734167  227.029851   7.849262e-94  1.245317  \\\n",
       "1        5.443762  0.020106  3.816994  230.995630   5.286616e-76  0.528280   \n",
       "2        8.091909  0.002167  9.925788  186.540872  4.171069e-132  3.807511   \n",
       "3        7.445251  0.000006  1.702584  162.828458   6.102202e-23  3.742464   \n",
       "4        8.132455  0.055262  4.288010   94.993978   2.919909e-52  1.770221   \n",
       "...           ...       ...       ...         ...            ...       ...   \n",
       "5120105  7.336513  0.000799  3.807672   89.956213   4.258296e-34  3.027267   \n",
       "5120106  8.161283  0.000015  6.552120  309.134213   3.368973e-44  2.127818   \n",
       "5120107  8.418457  0.000095  8.427576  256.570863   4.751543e-26  4.967504   \n",
       "5120108  7.950573  0.215729  4.677850  292.727780   4.679421e-12  1.842063   \n",
       "5120109  7.539523  0.022760  4.902591  106.256430   1.399449e-10  1.069694   \n",
       "\n",
       "         Color  Turbidity  Fluoride    Copper      Odor     Sulfate   \n",
       "0            2   0.019007  0.622874  0.437835  1.686049  144.010981  \\\n",
       "1            3   0.319956  0.423423  0.431588  3.414619  275.702107   \n",
       "2            3   0.004867  0.222912  0.616574  0.795310  175.275175   \n",
       "3            1   0.504791  0.054562  0.851326  1.270483   40.853403   \n",
       "4            3   0.021703  1.111893  0.247116  0.426404  146.073521   \n",
       "...        ...        ...       ...       ...       ...         ...   \n",
       "5120105      2   0.010288  0.745372  0.186357  2.585437  145.362834   \n",
       "5120106      3   0.201469  3.419696  3.170538  1.931928   43.043399   \n",
       "5120107      2   3.824532  0.541850  0.284838  0.299860  371.261098   \n",
       "5120108      1   1.181166  2.747241  1.367155  3.749374  198.070171   \n",
       "5120109      3   0.371766  0.995846  1.665171  2.530943   79.593261   \n",
       "\n",
       "         Conductivity  Chlorine     Manganese  Total Dissolved Solids  Source   \n",
       "0          432.844908  3.292038  8.024076e-07              284.641984       2  \\\n",
       "1          990.201209  3.560224  7.007989e-02              570.054094       4   \n",
       "2          385.025855  3.177849  3.296139e-03              168.075545       5   \n",
       "3          273.359662  3.957842  2.863952e-04              365.639045       6   \n",
       "4          265.530096  1.706755  3.083768e-02              266.079565       0   \n",
       "...               ...       ...           ...                     ...     ...   \n",
       "5120105    533.374053  2.553024  1.428103e-02                1.634232       2   \n",
       "5120106    366.349236  3.180415  7.086033e-04               19.767936       6   \n",
       "5120107    339.150786  2.630130  9.608234e-03              545.990529       7   \n",
       "5120108    521.505506  3.555576  1.875424e-11              514.136530       1   \n",
       "5120109    282.713146  6.033203  2.838596e-01              118.556879       0   \n",
       "\n",
       "         Water Temperature  Air Temperature  Target  \n",
       "0                15.348981        71.220586       0  \n",
       "1                11.643467        44.891330       0  \n",
       "2                15.249416        69.336671       0  \n",
       "3                13.966842        45.444798       0  \n",
       "4                27.920380        68.104498       0  \n",
       "...                    ...              ...     ...  \n",
       "5120105          18.610969        82.445237       1  \n",
       "5120106          26.160882        45.900772       1  \n",
       "5120107          21.436974        70.493951       1  \n",
       "5120108          19.064632        67.052475       1  \n",
       "5120109           6.594036        51.751181       1  \n",
       "\n",
       "[5120110 rows x 20 columns]"
      ]
     },
     "execution_count": 9,
     "metadata": {},
     "output_type": "execute_result"
    }
   ],
   "source": [
    "df"
   ]
  },
  {
   "cell_type": "markdown",
   "id": "ec6cf578-3eb6-4428-93af-a3ccb523f88e",
   "metadata": {},
   "source": [
    "## Splitting the dataset into training, validation and test sets (70:10:20 ratio)"
   ]
  },
  {
   "cell_type": "code",
   "execution_count": 10,
   "id": "e8005d2f",
   "metadata": {
    "tags": []
   },
   "outputs": [],
   "source": [
    "X = df.drop(columns=\"Target\", axis=1)\n",
    "y = df[\"Target\"]"
   ]
  },
  {
   "cell_type": "code",
   "execution_count": 11,
   "id": "48e973df",
   "metadata": {},
   "outputs": [
    {
     "name": "stdout",
     "output_type": "stream",
     "text": [
      "<class 'pandas.core.frame.DataFrame'>\n",
      "RangeIndex: 5120110 entries, 0 to 5120109\n",
      "Data columns (total 19 columns):\n",
      " #   Column                  Dtype  \n",
      "---  ------                  -----  \n",
      " 0   pH                      float64\n",
      " 1   Iron                    float64\n",
      " 2   Nitrate                 float64\n",
      " 3   Chloride                float64\n",
      " 4   Lead                    float64\n",
      " 5   Zinc                    float64\n",
      " 6   Color                   int64  \n",
      " 7   Turbidity               float64\n",
      " 8   Fluoride                float64\n",
      " 9   Copper                  float64\n",
      " 10  Odor                    float64\n",
      " 11  Sulfate                 float64\n",
      " 12  Conductivity            float64\n",
      " 13  Chlorine                float64\n",
      " 14  Manganese               float64\n",
      " 15  Total Dissolved Solids  float64\n",
      " 16  Source                  int64  \n",
      " 17  Water Temperature       float64\n",
      " 18  Air Temperature         float64\n",
      "dtypes: float64(17), int64(2)\n",
      "memory usage: 742.2 MB\n"
     ]
    }
   ],
   "source": [
    "X.info()"
   ]
  },
  {
   "cell_type": "code",
   "execution_count": 12,
   "id": "bfae9788",
   "metadata": {},
   "outputs": [
    {
     "name": "stdout",
     "output_type": "stream",
     "text": [
      "<class 'pandas.core.series.Series'>\n",
      "RangeIndex: 5120110 entries, 0 to 5120109\n",
      "Series name: Target\n",
      "Non-Null Count    Dtype\n",
      "--------------    -----\n",
      "5120110 non-null  int64\n",
      "dtypes: int64(1)\n",
      "memory usage: 39.1 MB\n"
     ]
    }
   ],
   "source": [
    "y.info()"
   ]
  },
  {
   "cell_type": "code",
   "execution_count": 13,
   "id": "34a113db",
   "metadata": {},
   "outputs": [],
   "source": [
    "X = np.array(X)\n",
    "y = np.array(y)"
   ]
  },
  {
   "cell_type": "code",
   "execution_count": 14,
   "id": "07cd7b3b",
   "metadata": {},
   "outputs": [
    {
     "name": "stderr",
     "output_type": "stream",
     "text": [
      "INFO:sklearnex: sklearn.utils.validation._assert_all_finite: fallback to original Scikit-learn\n",
      "2023-09-02 01:17:43,113 - sklearnex - INFO - sklearn.utils.validation._assert_all_finite: fallback to original Scikit-learn\n",
      "INFO:sklearnex: sklearn.utils.validation._assert_all_finite: fallback to original Scikit-learn\n",
      "2023-09-02 01:17:43,115 - sklearnex - INFO - sklearn.utils.validation._assert_all_finite: fallback to original Scikit-learn\n",
      "INFO:sklearnex: sklearn.model_selection.train_test_split: running accelerated version on CPU\n",
      "2023-09-02 01:17:44,077 - sklearnex - INFO - sklearn.model_selection.train_test_split: running accelerated version on CPU\n",
      "INFO:sklearnex: sklearn.model_selection.train_test_split: running accelerated version on CPU\n",
      "2023-09-02 01:17:44,669 - sklearnex - INFO - sklearn.model_selection.train_test_split: running accelerated version on CPU\n"
     ]
    }
   ],
   "source": [
    "X_train, X_valtest, y_train, y_valtest = tts(X, y, test_size=.3, stratify=y, random_state=42)"
   ]
  },
  {
   "cell_type": "code",
   "execution_count": 15,
   "id": "355cebc9-cc97-44e1-8955-534e08b6bdc4",
   "metadata": {},
   "outputs": [
    {
     "name": "stderr",
     "output_type": "stream",
     "text": [
      "INFO:sklearnex: sklearn.utils.validation._assert_all_finite: fallback to original Scikit-learn\n",
      "2023-09-02 01:17:47,670 - sklearnex - INFO - sklearn.utils.validation._assert_all_finite: fallback to original Scikit-learn\n",
      "INFO:sklearnex: sklearn.utils.validation._assert_all_finite: fallback to original Scikit-learn\n",
      "2023-09-02 01:17:47,672 - sklearnex - INFO - sklearn.utils.validation._assert_all_finite: fallback to original Scikit-learn\n",
      "INFO:sklearnex: sklearn.model_selection.train_test_split: running accelerated version on CPU\n",
      "2023-09-02 01:17:47,956 - sklearnex - INFO - sklearn.model_selection.train_test_split: running accelerated version on CPU\n",
      "INFO:sklearnex: sklearn.model_selection.train_test_split: running accelerated version on CPU\n",
      "2023-09-02 01:17:48,107 - sklearnex - INFO - sklearn.model_selection.train_test_split: running accelerated version on CPU\n"
     ]
    }
   ],
   "source": [
    "X_val, X_test, y_val, y_test = tts(X_valtest, y_valtest, test_size=.666, stratify=y_valtest, random_state=42)"
   ]
  },
  {
   "cell_type": "markdown",
   "id": "898954f1-3cab-4606-81ea-6eafcfbd3e00",
   "metadata": {},
   "source": [
    "---\n",
    "## Logistic Regression"
   ]
  },
  {
   "cell_type": "code",
   "execution_count": 16,
   "id": "5c2572fc",
   "metadata": {},
   "outputs": [
    {
     "name": "stderr",
     "output_type": "stream",
     "text": [
      "INFO:sklearnex: sklearn.utils.validation._assert_all_finite: running accelerated version on CPU\n",
      "2023-09-02 01:17:50,620 - sklearnex - INFO - sklearn.utils.validation._assert_all_finite: running accelerated version on CPU\n",
      "INFO:sklearnex: sklearn.utils.validation._assert_all_finite: fallback to original Scikit-learn\n",
      "2023-09-02 01:17:50,650 - sklearnex - INFO - sklearn.utils.validation._assert_all_finite: fallback to original Scikit-learn\n"
     ]
    },
    {
     "data": {
      "text/html": [
       "<style>#sk-container-id-1 {color: black;background-color: white;}#sk-container-id-1 pre{padding: 0;}#sk-container-id-1 div.sk-toggleable {background-color: white;}#sk-container-id-1 label.sk-toggleable__label {cursor: pointer;display: block;width: 100%;margin-bottom: 0;padding: 0.3em;box-sizing: border-box;text-align: center;}#sk-container-id-1 label.sk-toggleable__label-arrow:before {content: \"▸\";float: left;margin-right: 0.25em;color: #696969;}#sk-container-id-1 label.sk-toggleable__label-arrow:hover:before {color: black;}#sk-container-id-1 div.sk-estimator:hover label.sk-toggleable__label-arrow:before {color: black;}#sk-container-id-1 div.sk-toggleable__content {max-height: 0;max-width: 0;overflow: hidden;text-align: left;background-color: #f0f8ff;}#sk-container-id-1 div.sk-toggleable__content pre {margin: 0.2em;color: black;border-radius: 0.25em;background-color: #f0f8ff;}#sk-container-id-1 input.sk-toggleable__control:checked~div.sk-toggleable__content {max-height: 200px;max-width: 100%;overflow: auto;}#sk-container-id-1 input.sk-toggleable__control:checked~label.sk-toggleable__label-arrow:before {content: \"▾\";}#sk-container-id-1 div.sk-estimator input.sk-toggleable__control:checked~label.sk-toggleable__label {background-color: #d4ebff;}#sk-container-id-1 div.sk-label input.sk-toggleable__control:checked~label.sk-toggleable__label {background-color: #d4ebff;}#sk-container-id-1 input.sk-hidden--visually {border: 0;clip: rect(1px 1px 1px 1px);clip: rect(1px, 1px, 1px, 1px);height: 1px;margin: -1px;overflow: hidden;padding: 0;position: absolute;width: 1px;}#sk-container-id-1 div.sk-estimator {font-family: monospace;background-color: #f0f8ff;border: 1px dotted black;border-radius: 0.25em;box-sizing: border-box;margin-bottom: 0.5em;}#sk-container-id-1 div.sk-estimator:hover {background-color: #d4ebff;}#sk-container-id-1 div.sk-parallel-item::after {content: \"\";width: 100%;border-bottom: 1px solid gray;flex-grow: 1;}#sk-container-id-1 div.sk-label:hover label.sk-toggleable__label {background-color: #d4ebff;}#sk-container-id-1 div.sk-serial::before {content: \"\";position: absolute;border-left: 1px solid gray;box-sizing: border-box;top: 0;bottom: 0;left: 50%;z-index: 0;}#sk-container-id-1 div.sk-serial {display: flex;flex-direction: column;align-items: center;background-color: white;padding-right: 0.2em;padding-left: 0.2em;position: relative;}#sk-container-id-1 div.sk-item {position: relative;z-index: 1;}#sk-container-id-1 div.sk-parallel {display: flex;align-items: stretch;justify-content: center;background-color: white;position: relative;}#sk-container-id-1 div.sk-item::before, #sk-container-id-1 div.sk-parallel-item::before {content: \"\";position: absolute;border-left: 1px solid gray;box-sizing: border-box;top: 0;bottom: 0;left: 50%;z-index: -1;}#sk-container-id-1 div.sk-parallel-item {display: flex;flex-direction: column;z-index: 1;position: relative;background-color: white;}#sk-container-id-1 div.sk-parallel-item:first-child::after {align-self: flex-end;width: 50%;}#sk-container-id-1 div.sk-parallel-item:last-child::after {align-self: flex-start;width: 50%;}#sk-container-id-1 div.sk-parallel-item:only-child::after {width: 0;}#sk-container-id-1 div.sk-dashed-wrapped {border: 1px dashed gray;margin: 0 0.4em 0.5em 0.4em;box-sizing: border-box;padding-bottom: 0.4em;background-color: white;}#sk-container-id-1 div.sk-label label {font-family: monospace;font-weight: bold;display: inline-block;line-height: 1.2em;}#sk-container-id-1 div.sk-label-container {text-align: center;}#sk-container-id-1 div.sk-container {/* jupyter's `normalize.less` sets `[hidden] { display: none; }` but bootstrap.min.css set `[hidden] { display: none !important; }` so we also need the `!important` here to be able to override the default hidden behavior on the sphinx rendered scikit-learn.org. See: https://github.com/scikit-learn/scikit-learn/issues/21755 */display: inline-block !important;position: relative;}#sk-container-id-1 div.sk-text-repr-fallback {display: none;}</style><div id=\"sk-container-id-1\" class=\"sk-top-container\"><div class=\"sk-text-repr-fallback\"><pre>LogisticRegression(solver=&#x27;liblinear&#x27;)</pre><b>In a Jupyter environment, please rerun this cell to show the HTML representation or trust the notebook. <br />On GitHub, the HTML representation is unable to render, please try loading this page with nbviewer.org.</b></div><div class=\"sk-container\" hidden><div class=\"sk-item\"><div class=\"sk-estimator sk-toggleable\"><input class=\"sk-toggleable__control sk-hidden--visually\" id=\"sk-estimator-id-1\" type=\"checkbox\" checked><label for=\"sk-estimator-id-1\" class=\"sk-toggleable__label sk-toggleable__label-arrow\">LogisticRegression</label><div class=\"sk-toggleable__content\"><pre>LogisticRegression(solver=&#x27;liblinear&#x27;)</pre></div></div></div></div></div>"
      ],
      "text/plain": [
       "LogisticRegression(solver='liblinear')"
      ]
     },
     "execution_count": 16,
     "metadata": {},
     "output_type": "execute_result"
    }
   ],
   "source": [
    "lr_clf = LogisticRegression(penalty='l2',solver='liblinear')\n",
    "lr_clf.fit(X_train, y_train)"
   ]
  },
  {
   "cell_type": "code",
   "execution_count": 17,
   "id": "72f3eff8",
   "metadata": {},
   "outputs": [
    {
     "name": "stderr",
     "output_type": "stream",
     "text": [
      "INFO:sklearnex: sklearn.utils.validation._assert_all_finite: running accelerated version on CPU\n",
      "2023-09-02 01:20:04,065 - sklearnex - INFO - sklearn.utils.validation._assert_all_finite: running accelerated version on CPU\n",
      "INFO:sklearnex: sklearn.linear_model.LogisticRegression.predict: running accelerated version on CPU\n",
      "2023-09-02 01:20:04,085 - sklearnex - INFO - sklearn.linear_model.LogisticRegression.predict: running accelerated version on CPU\n"
     ]
    },
    {
     "data": {
      "text/plain": [
       "0.7902584124169207"
      ]
     },
     "execution_count": 17,
     "metadata": {},
     "output_type": "execute_result"
    }
   ],
   "source": [
    "lr_clf.score(X_valtest, y_valtest)"
   ]
  },
  {
   "cell_type": "markdown",
   "id": "45f34fd6-1787-45e9-b467-9fc17ecece56",
   "metadata": {},
   "source": [
    "---\n",
    "## Decision Tree Classifier"
   ]
  },
  {
   "cell_type": "code",
   "execution_count": 18,
   "id": "526213c5",
   "metadata": {
    "tags": []
   },
   "outputs": [
    {
     "name": "stderr",
     "output_type": "stream",
     "text": [
      "INFO:sklearnex: sklearn.utils.validation._assert_all_finite: running accelerated version on CPU\n",
      "2023-09-02 01:20:07,884 - sklearnex - INFO - sklearn.utils.validation._assert_all_finite: running accelerated version on CPU\n",
      "INFO:sklearnex: sklearn.utils.validation._assert_all_finite: fallback to original Scikit-learn\n",
      "2023-09-02 01:20:07,900 - sklearnex - INFO - sklearn.utils.validation._assert_all_finite: fallback to original Scikit-learn\n",
      "INFO:sklearnex: sklearn.utils.validation._assert_all_finite: running accelerated version on CPU\n",
      "2023-09-02 01:25:34,159 - sklearnex - INFO - sklearn.utils.validation._assert_all_finite: running accelerated version on CPU\n"
     ]
    }
   ],
   "source": [
    "dt_clf = DecisionTreeClassifier()\n",
    "dt_clf.fit(X_train, y_train)\n",
    "y_pred = dt_clf.predict(X_valtest)"
   ]
  },
  {
   "cell_type": "code",
   "execution_count": 19,
   "id": "ed829f68",
   "metadata": {},
   "outputs": [
    {
     "name": "stderr",
     "output_type": "stream",
     "text": [
      "INFO:sklearnex: sklearn.utils.validation._assert_all_finite: running accelerated version on CPU\n",
      "2023-09-02 01:25:34,889 - sklearnex - INFO - sklearn.utils.validation._assert_all_finite: running accelerated version on CPU\n"
     ]
    },
    {
     "name": "stdout",
     "output_type": "stream",
     "text": [
      "Training accuracy: 1.0\n",
      "\n",
      "Testing accuracy: 0.8304802045268559\n",
      "Testing f1-score: 0.7181295235043614\n"
     ]
    }
   ],
   "source": [
    "print(f\"Training accuracy: {dt_clf.score(X_train, y_train)}\")\n",
    "print()\n",
    "print(f\"Testing accuracy: {accuracy_score(y_valtest, y_pred)}\")\n",
    "print(f\"Testing f1-score: {f1_score(y_valtest, y_pred)}\")"
   ]
  },
  {
   "cell_type": "markdown",
   "id": "86734930",
   "metadata": {},
   "source": [
    "---\n",
    "## XGBoost Classifier"
   ]
  },
  {
   "cell_type": "code",
   "execution_count": 20,
   "id": "50e88955",
   "metadata": {},
   "outputs": [],
   "source": [
    "xgb_clf = XGBClassifier()\n",
    "xgb_clf.fit(X_train, y_train)\n",
    "y_pred = xgb_clf.predict(X_valtest)"
   ]
  },
  {
   "cell_type": "code",
   "execution_count": 21,
   "id": "c301b742",
   "metadata": {},
   "outputs": [
    {
     "name": "stdout",
     "output_type": "stream",
     "text": [
      "Training accuracy: 0.8645785232850746\n",
      "\n",
      "Testing accuracy: 0.8637867806225518\n",
      "Testing f1-score: 0.7961777731017943\n"
     ]
    }
   ],
   "source": [
    "print(f\"Training accuracy: {xgb_clf.score(X_train, y_train)}\")\n",
    "print()\n",
    "print(f\"Testing accuracy: {accuracy_score(y_valtest, y_pred)}\")\n",
    "print(f\"Testing f1-score: {f1_score(y_valtest, y_pred)}\")"
   ]
  },
  {
   "cell_type": "code",
   "execution_count": 22,
   "id": "65539d89",
   "metadata": {},
   "outputs": [
    {
     "data": {
      "image/png": "[encoded data removed]",
      "text/plain": [
       "<Figure size 640x480 with 2 Axes>"
      ]
     },
     "metadata": {},
     "output_type": "display_data"
    }
   ],
   "source": [
    "plot_confusion_matrix(y_valtest, y_pred)"
   ]
  },
  {
   "cell_type": "markdown",
   "id": "0d5632eb",
   "metadata": {},
   "source": [
    "---\n",
    "## Multi-Layered Perceptron (MLP)"
   ]
  },
  {
   "cell_type": "code",
   "execution_count": 23,
   "id": "e2954249",
   "metadata": {},
   "outputs": [
    {
     "name": "stderr",
     "output_type": "stream",
     "text": [
      "INFO:sklearnex: sklearn.utils.validation._assert_all_finite: running accelerated version on CPU\n",
      "2023-09-02 01:32:25,032 - sklearnex - INFO - sklearn.utils.validation._assert_all_finite: running accelerated version on CPU\n",
      "INFO:sklearnex: sklearn.utils.validation._assert_all_finite: fallback to original Scikit-learn\n",
      "2023-09-02 01:32:25,075 - sklearnex - INFO - sklearn.utils.validation._assert_all_finite: fallback to original Scikit-learn\n",
      "INFO:sklearnex: sklearn.utils.validation._assert_all_finite: fallback to original Scikit-learn\n",
      "2023-09-02 01:32:25,307 - sklearnex - INFO - sklearn.utils.validation._assert_all_finite: fallback to original Scikit-learn\n"
     ]
    },
    {
     "data": {
      "text/html": [
       "<style>#sk-container-id-2 {color: black;background-color: white;}#sk-container-id-2 pre{padding: 0;}#sk-container-id-2 div.sk-toggleable {background-color: white;}#sk-container-id-2 label.sk-toggleable__label {cursor: pointer;display: block;width: 100%;margin-bottom: 0;padding: 0.3em;box-sizing: border-box;text-align: center;}#sk-container-id-2 label.sk-toggleable__label-arrow:before {content: \"▸\";float: left;margin-right: 0.25em;color: #696969;}#sk-container-id-2 label.sk-toggleable__label-arrow:hover:before {color: black;}#sk-container-id-2 div.sk-estimator:hover label.sk-toggleable__label-arrow:before {color: black;}#sk-container-id-2 div.sk-toggleable__content {max-height: 0;max-width: 0;overflow: hidden;text-align: left;background-color: #f0f8ff;}#sk-container-id-2 div.sk-toggleable__content pre {margin: 0.2em;color: black;border-radius: 0.25em;background-color: #f0f8ff;}#sk-container-id-2 input.sk-toggleable__control:checked~div.sk-toggleable__content {max-height: 200px;max-width: 100%;overflow: auto;}#sk-container-id-2 input.sk-toggleable__control:checked~label.sk-toggleable__label-arrow:before {content: \"▾\";}#sk-container-id-2 div.sk-estimator input.sk-toggleable__control:checked~label.sk-toggleable__label {background-color: #d4ebff;}#sk-container-id-2 div.sk-label input.sk-toggleable__control:checked~label.sk-toggleable__label {background-color: #d4ebff;}#sk-container-id-2 input.sk-hidden--visually {border: 0;clip: rect(1px 1px 1px 1px);clip: rect(1px, 1px, 1px, 1px);height: 1px;margin: -1px;overflow: hidden;padding: 0;position: absolute;width: 1px;}#sk-container-id-2 div.sk-estimator {font-family: monospace;background-color: #f0f8ff;border: 1px dotted black;border-radius: 0.25em;box-sizing: border-box;margin-bottom: 0.5em;}#sk-container-id-2 div.sk-estimator:hover {background-color: #d4ebff;}#sk-container-id-2 div.sk-parallel-item::after {content: \"\";width: 100%;border-bottom: 1px solid gray;flex-grow: 1;}#sk-container-id-2 div.sk-label:hover label.sk-toggleable__label {background-color: #d4ebff;}#sk-container-id-2 div.sk-serial::before {content: \"\";position: absolute;border-left: 1px solid gray;box-sizing: border-box;top: 0;bottom: 0;left: 50%;z-index: 0;}#sk-container-id-2 div.sk-serial {display: flex;flex-direction: column;align-items: center;background-color: white;padding-right: 0.2em;padding-left: 0.2em;position: relative;}#sk-container-id-2 div.sk-item {position: relative;z-index: 1;}#sk-container-id-2 div.sk-parallel {display: flex;align-items: stretch;justify-content: center;background-color: white;position: relative;}#sk-container-id-2 div.sk-item::before, #sk-container-id-2 div.sk-parallel-item::before {content: \"\";position: absolute;border-left: 1px solid gray;box-sizing: border-box;top: 0;bottom: 0;left: 50%;z-index: -1;}#sk-container-id-2 div.sk-parallel-item {display: flex;flex-direction: column;z-index: 1;position: relative;background-color: white;}#sk-container-id-2 div.sk-parallel-item:first-child::after {align-self: flex-end;width: 50%;}#sk-container-id-2 div.sk-parallel-item:last-child::after {align-self: flex-start;width: 50%;}#sk-container-id-2 div.sk-parallel-item:only-child::after {width: 0;}#sk-container-id-2 div.sk-dashed-wrapped {border: 1px dashed gray;margin: 0 0.4em 0.5em 0.4em;box-sizing: border-box;padding-bottom: 0.4em;background-color: white;}#sk-container-id-2 div.sk-label label {font-family: monospace;font-weight: bold;display: inline-block;line-height: 1.2em;}#sk-container-id-2 div.sk-label-container {text-align: center;}#sk-container-id-2 div.sk-container {/* jupyter's `normalize.less` sets `[hidden] { display: none; }` but bootstrap.min.css set `[hidden] { display: none !important; }` so we also need the `!important` here to be able to override the default hidden behavior on the sphinx rendered scikit-learn.org. See: https://github.com/scikit-learn/scikit-learn/issues/21755 */display: inline-block !important;position: relative;}#sk-container-id-2 div.sk-text-repr-fallback {display: none;}</style><div id=\"sk-container-id-2\" class=\"sk-top-container\"><div class=\"sk-text-repr-fallback\"><pre>MLPClassifier(hidden_layer_sizes=(10, 10, 10, 10, 2))</pre><b>In a Jupyter environment, please rerun this cell to show the HTML representation or trust the notebook. <br />On GitHub, the HTML representation is unable to render, please try loading this page with nbviewer.org.</b></div><div class=\"sk-container\" hidden><div class=\"sk-item\"><div class=\"sk-estimator sk-toggleable\"><input class=\"sk-toggleable__control sk-hidden--visually\" id=\"sk-estimator-id-2\" type=\"checkbox\" checked><label for=\"sk-estimator-id-2\" class=\"sk-toggleable__label sk-toggleable__label-arrow\">MLPClassifier</label><div class=\"sk-toggleable__content\"><pre>MLPClassifier(hidden_layer_sizes=(10, 10, 10, 10, 2))</pre></div></div></div></div></div>"
      ],
      "text/plain": [
       "MLPClassifier(hidden_layer_sizes=(10, 10, 10, 10, 2))"
      ]
     },
     "execution_count": 23,
     "metadata": {},
     "output_type": "execute_result"
    }
   ],
   "source": [
    "mlp_clf = MLPClassifier(hidden_layer_sizes=(10,10,10,10,2))\n",
    "mlp_clf.fit(X_train, y_train)"
   ]
  },
  {
   "cell_type": "code",
   "execution_count": 24,
   "id": "17e9f378",
   "metadata": {},
   "outputs": [
    {
     "name": "stderr",
     "output_type": "stream",
     "text": [
      "INFO:sklearnex: sklearn.utils.validation._assert_all_finite: running accelerated version on CPU\n",
      "2023-09-02 01:45:31,353 - sklearnex - INFO - sklearn.utils.validation._assert_all_finite: running accelerated version on CPU\n"
     ]
    }
   ],
   "source": [
    "y_pred = mlp_clf.predict(X_valtest)"
   ]
  },
  {
   "cell_type": "code",
   "execution_count": 26,
   "id": "ce94d80b",
   "metadata": {},
   "outputs": [
    {
     "name": "stdout",
     "output_type": "stream",
     "text": [
      "Testing accuracy: 0.8465312919709407\n",
      "Testing f1-score: 0.7643417036799334\n"
     ]
    }
   ],
   "source": [
    "print(f\"Testing accuracy: {accuracy_score(y_valtest, y_pred)}\")\n",
    "print(f\"Testing f1-score: {f1_score(y_valtest, y_pred)}\")"
   ]
  },
  {
   "cell_type": "code",
   "execution_count": 27,
   "id": "7b0ada18",
   "metadata": {},
   "outputs": [
    {
     "data": {
      "image/png": "[encoded data removed]",
      "text/plain": [
       "<Figure size 640x480 with 2 Axes>"
      ]
     },
     "metadata": {},
     "output_type": "display_data"
    }
   ],
   "source": [
    "plot_confusion_matrix(y_valtest, y_pred)"
   ]
  },
  {
   "cell_type": "markdown",
   "id": "3b809344-b9a5-4047-9955-35a60dc33cca",
   "metadata": {},
   "source": [
    "---\n",
    "## TabNet Classifier"
   ]
  },
  {
   "cell_type": "code",
   "execution_count": 28,
   "id": "b85d04df",
   "metadata": {},
   "outputs": [],
   "source": [
    "tab_clf = TabNetClassifier()"
   ]
  },
  {
   "cell_type": "code",
   "execution_count": 29,
   "id": "57dd13e6-6911-46dd-9fc3-d91d84e049e9",
   "metadata": {},
   "outputs": [
    {
     "name": "stderr",
     "output_type": "stream",
     "text": [
      "INFO:sklearnex: sklearn.utils.validation._assert_all_finite: running accelerated version on CPU\n",
      "2023-09-02 01:46:30,912 - sklearnex - INFO - sklearn.utils.validation._assert_all_finite: running accelerated version on CPU\n",
      "INFO:sklearnex: sklearn.utils.validation._assert_all_finite: running accelerated version on CPU\n",
      "2023-09-02 01:46:31,284 - sklearnex - INFO - sklearn.utils.validation._assert_all_finite: running accelerated version on CPU\n",
      "INFO:sklearnex: sklearn.utils.validation._assert_all_finite: fallback to original Scikit-learn\n",
      "2023-09-02 01:48:08,856 - sklearnex - INFO - sklearn.utils.validation._assert_all_finite: fallback to original Scikit-learn\n",
      "INFO:sklearnex: sklearn.utils.validation._assert_all_finite: running accelerated version on CPU\n",
      "2023-09-02 01:48:08,857 - sklearnex - INFO - sklearn.utils.validation._assert_all_finite: running accelerated version on CPU\n",
      "INFO:sklearnex: sklearn.metrics.roc_auc_score: running accelerated version on CPU\n",
      "2023-09-02 01:48:08,862 - sklearnex - INFO - sklearn.metrics.roc_auc_score: running accelerated version on CPU\n"
     ]
    },
    {
     "name": "stdout",
     "output_type": "stream",
     "text": [
      "epoch 0  | loss: 0.32176 | val_0_auc: 0.91372 |  0:01:37s\n"
     ]
    },
    {
     "name": "stderr",
     "output_type": "stream",
     "text": [
      "INFO:sklearnex: sklearn.utils.validation._assert_all_finite: fallback to original Scikit-learn\n",
      "2023-09-02 01:49:48,692 - sklearnex - INFO - sklearn.utils.validation._assert_all_finite: fallback to original Scikit-learn\n",
      "INFO:sklearnex: sklearn.utils.validation._assert_all_finite: running accelerated version on CPU\n",
      "2023-09-02 01:49:48,693 - sklearnex - INFO - sklearn.utils.validation._assert_all_finite: running accelerated version on CPU\n",
      "INFO:sklearnex: sklearn.metrics.roc_auc_score: running accelerated version on CPU\n",
      "2023-09-02 01:49:48,699 - sklearnex - INFO - sklearn.metrics.roc_auc_score: running accelerated version on CPU\n"
     ]
    },
    {
     "name": "stdout",
     "output_type": "stream",
     "text": [
      "epoch 1  | loss: 0.29856 | val_0_auc: 0.91453 |  0:03:16s\n"
     ]
    },
    {
     "name": "stderr",
     "output_type": "stream",
     "text": [
      "INFO:sklearnex: sklearn.utils.validation._assert_all_finite: fallback to original Scikit-learn\n",
      "2023-09-02 01:51:28,862 - sklearnex - INFO - sklearn.utils.validation._assert_all_finite: fallback to original Scikit-learn\n",
      "INFO:sklearnex: sklearn.utils.validation._assert_all_finite: running accelerated version on CPU\n",
      "2023-09-02 01:51:28,863 - sklearnex - INFO - sklearn.utils.validation._assert_all_finite: running accelerated version on CPU\n",
      "INFO:sklearnex: sklearn.metrics.roc_auc_score: running accelerated version on CPU\n",
      "2023-09-02 01:51:28,872 - sklearnex - INFO - sklearn.metrics.roc_auc_score: running accelerated version on CPU\n"
     ]
    },
    {
     "name": "stdout",
     "output_type": "stream",
     "text": [
      "epoch 2  | loss: 0.29605 | val_0_auc: 0.91403 |  0:04:57s\n"
     ]
    },
    {
     "name": "stderr",
     "output_type": "stream",
     "text": [
      "INFO:sklearnex: sklearn.utils.validation._assert_all_finite: fallback to original Scikit-learn\n",
      "2023-09-02 01:53:09,074 - sklearnex - INFO - sklearn.utils.validation._assert_all_finite: fallback to original Scikit-learn\n",
      "INFO:sklearnex: sklearn.utils.validation._assert_all_finite: running accelerated version on CPU\n",
      "2023-09-02 01:53:09,075 - sklearnex - INFO - sklearn.utils.validation._assert_all_finite: running accelerated version on CPU\n",
      "INFO:sklearnex: sklearn.metrics.roc_auc_score: running accelerated version on CPU\n",
      "2023-09-02 01:53:09,080 - sklearnex - INFO - sklearn.metrics.roc_auc_score: running accelerated version on CPU\n"
     ]
    },
    {
     "name": "stdout",
     "output_type": "stream",
     "text": [
      "epoch 3  | loss: 0.29339 | val_0_auc: 0.91208 |  0:06:37s\n"
     ]
    },
    {
     "name": "stderr",
     "output_type": "stream",
     "text": [
      "INFO:sklearnex: sklearn.utils.validation._assert_all_finite: fallback to original Scikit-learn\n",
      "2023-09-02 01:54:48,509 - sklearnex - INFO - sklearn.utils.validation._assert_all_finite: fallback to original Scikit-learn\n",
      "INFO:sklearnex: sklearn.utils.validation._assert_all_finite: running accelerated version on CPU\n",
      "2023-09-02 01:54:48,510 - sklearnex - INFO - sklearn.utils.validation._assert_all_finite: running accelerated version on CPU\n",
      "INFO:sklearnex: sklearn.metrics.roc_auc_score: running accelerated version on CPU\n",
      "2023-09-02 01:54:48,515 - sklearnex - INFO - sklearn.metrics.roc_auc_score: running accelerated version on CPU\n"
     ]
    },
    {
     "name": "stdout",
     "output_type": "stream",
     "text": [
      "epoch 4  | loss: 0.29271 | val_0_auc: 0.91405 |  0:08:16s\n"
     ]
    },
    {
     "name": "stderr",
     "output_type": "stream",
     "text": [
      "INFO:sklearnex: sklearn.utils.validation._assert_all_finite: fallback to original Scikit-learn\n",
      "2023-09-02 01:56:28,045 - sklearnex - INFO - sklearn.utils.validation._assert_all_finite: fallback to original Scikit-learn\n",
      "INFO:sklearnex: sklearn.utils.validation._assert_all_finite: running accelerated version on CPU\n",
      "2023-09-02 01:56:28,046 - sklearnex - INFO - sklearn.utils.validation._assert_all_finite: running accelerated version on CPU\n",
      "INFO:sklearnex: sklearn.metrics.roc_auc_score: running accelerated version on CPU\n",
      "2023-09-02 01:56:28,052 - sklearnex - INFO - sklearn.metrics.roc_auc_score: running accelerated version on CPU\n"
     ]
    },
    {
     "name": "stdout",
     "output_type": "stream",
     "text": [
      "epoch 5  | loss: 0.29203 | val_0_auc: 0.91451 |  0:09:56s\n"
     ]
    },
    {
     "name": "stderr",
     "output_type": "stream",
     "text": [
      "INFO:sklearnex: sklearn.utils.validation._assert_all_finite: fallback to original Scikit-learn\n",
      "2023-09-02 01:58:07,471 - sklearnex - INFO - sklearn.utils.validation._assert_all_finite: fallback to original Scikit-learn\n",
      "INFO:sklearnex: sklearn.utils.validation._assert_all_finite: running accelerated version on CPU\n",
      "2023-09-02 01:58:07,472 - sklearnex - INFO - sklearn.utils.validation._assert_all_finite: running accelerated version on CPU\n",
      "INFO:sklearnex: sklearn.metrics.roc_auc_score: running accelerated version on CPU\n",
      "2023-09-02 01:58:07,478 - sklearnex - INFO - sklearn.metrics.roc_auc_score: running accelerated version on CPU\n"
     ]
    },
    {
     "name": "stdout",
     "output_type": "stream",
     "text": [
      "epoch 6  | loss: 0.2913  | val_0_auc: 0.91441 |  0:11:35s\n"
     ]
    },
    {
     "name": "stderr",
     "output_type": "stream",
     "text": [
      "INFO:sklearnex: sklearn.utils.validation._assert_all_finite: fallback to original Scikit-learn\n",
      "2023-09-02 01:59:46,895 - sklearnex - INFO - sklearn.utils.validation._assert_all_finite: fallback to original Scikit-learn\n",
      "INFO:sklearnex: sklearn.utils.validation._assert_all_finite: running accelerated version on CPU\n",
      "2023-09-02 01:59:46,896 - sklearnex - INFO - sklearn.utils.validation._assert_all_finite: running accelerated version on CPU\n",
      "INFO:sklearnex: sklearn.metrics.roc_auc_score: running accelerated version on CPU\n",
      "2023-09-02 01:59:46,905 - sklearnex - INFO - sklearn.metrics.roc_auc_score: running accelerated version on CPU\n"
     ]
    },
    {
     "name": "stdout",
     "output_type": "stream",
     "text": [
      "epoch 7  | loss: 0.29122 | val_0_auc: 0.91369 |  0:13:15s\n"
     ]
    },
    {
     "name": "stderr",
     "output_type": "stream",
     "text": [
      "INFO:sklearnex: sklearn.utils.validation._assert_all_finite: fallback to original Scikit-learn\n",
      "2023-09-02 02:01:26,128 - sklearnex - INFO - sklearn.utils.validation._assert_all_finite: fallback to original Scikit-learn\n",
      "INFO:sklearnex: sklearn.utils.validation._assert_all_finite: running accelerated version on CPU\n",
      "2023-09-02 02:01:26,129 - sklearnex - INFO - sklearn.utils.validation._assert_all_finite: running accelerated version on CPU\n",
      "INFO:sklearnex: sklearn.metrics.roc_auc_score: running accelerated version on CPU\n",
      "2023-09-02 02:01:26,135 - sklearnex - INFO - sklearn.metrics.roc_auc_score: running accelerated version on CPU\n"
     ]
    },
    {
     "name": "stdout",
     "output_type": "stream",
     "text": [
      "epoch 8  | loss: 0.29052 | val_0_auc: 0.91488 |  0:14:54s\n"
     ]
    },
    {
     "name": "stderr",
     "output_type": "stream",
     "text": [
      "INFO:sklearnex: sklearn.utils.validation._assert_all_finite: fallback to original Scikit-learn\n",
      "2023-09-02 02:03:05,694 - sklearnex - INFO - sklearn.utils.validation._assert_all_finite: fallback to original Scikit-learn\n",
      "INFO:sklearnex: sklearn.utils.validation._assert_all_finite: running accelerated version on CPU\n",
      "2023-09-02 02:03:05,695 - sklearnex - INFO - sklearn.utils.validation._assert_all_finite: running accelerated version on CPU\n",
      "INFO:sklearnex: sklearn.metrics.roc_auc_score: running accelerated version on CPU\n",
      "2023-09-02 02:03:05,704 - sklearnex - INFO - sklearn.metrics.roc_auc_score: running accelerated version on CPU\n"
     ]
    },
    {
     "name": "stdout",
     "output_type": "stream",
     "text": [
      "epoch 9  | loss: 0.28985 | val_0_auc: 0.91581 |  0:16:34s\n",
      "Stop training because you reached max_epochs = 10 with best_epoch = 9 and best_val_0_auc = 0.91581\n"
     ]
    },
    {
     "ename": "KeyboardInterrupt",
     "evalue": "",
     "output_type": "error",
     "traceback": [
      "\u001b[0;31m---------------------------------------------------------------------------\u001b[0m",
      "\u001b[0;31mKeyboardInterrupt\u001b[0m                         Traceback (most recent call last)",
      "Cell \u001b[0;32mIn[29], line 1\u001b[0m\n\u001b[0;32m----> 1\u001b[0m \u001b[43mtab_clf\u001b[49m\u001b[38;5;241;43m.\u001b[39;49m\u001b[43mfit\u001b[49m\u001b[43m(\u001b[49m\n\u001b[1;32m      2\u001b[0m \u001b[43m    \u001b[49m\u001b[43mX_train\u001b[49m\u001b[43m,\u001b[49m\u001b[43m \u001b[49m\u001b[43my_train\u001b[49m\u001b[43m,\u001b[49m\n\u001b[1;32m      3\u001b[0m \u001b[43m    \u001b[49m\u001b[43meval_set\u001b[49m\u001b[38;5;241;43m=\u001b[39;49m\u001b[43m[\u001b[49m\u001b[43m(\u001b[49m\u001b[43mX_val\u001b[49m\u001b[43m,\u001b[49m\u001b[43m \u001b[49m\u001b[43my_val\u001b[49m\u001b[43m)\u001b[49m\u001b[43m]\u001b[49m\u001b[43m,\u001b[49m\n\u001b[1;32m      4\u001b[0m \u001b[43m    \u001b[49m\u001b[43mmax_epochs\u001b[49m\u001b[38;5;241;43m=\u001b[39;49m\u001b[38;5;241;43m10\u001b[39;49m\u001b[43m,\u001b[49m\n\u001b[1;32m      5\u001b[0m \u001b[43m)\u001b[49m\n",
      "File \u001b[0;32m~/.local/lib/python3.8/site-packages/pytorch_tabnet/abstract_model.py:278\u001b[0m, in \u001b[0;36mTabModel.fit\u001b[0;34m(self, X_train, y_train, eval_set, eval_name, eval_metric, loss_fn, weights, max_epochs, patience, batch_size, virtual_batch_size, num_workers, drop_last, callbacks, pin_memory, from_unsupervised, warm_start, augmentations, compute_importance)\u001b[0m\n\u001b[1;32m    274\u001b[0m \u001b[38;5;28mself\u001b[39m\u001b[38;5;241m.\u001b[39mnetwork\u001b[38;5;241m.\u001b[39meval()\n\u001b[1;32m    276\u001b[0m \u001b[38;5;28;01mif\u001b[39;00m \u001b[38;5;28mself\u001b[39m\u001b[38;5;241m.\u001b[39mcompute_importance:\n\u001b[1;32m    277\u001b[0m     \u001b[38;5;66;03m# compute feature importance once the best model is defined\u001b[39;00m\n\u001b[0;32m--> 278\u001b[0m     \u001b[38;5;28mself\u001b[39m\u001b[38;5;241m.\u001b[39mfeature_importances_ \u001b[38;5;241m=\u001b[39m \u001b[38;5;28;43mself\u001b[39;49m\u001b[38;5;241;43m.\u001b[39;49m\u001b[43m_compute_feature_importances\u001b[49m\u001b[43m(\u001b[49m\u001b[43mX_train\u001b[49m\u001b[43m)\u001b[49m\n",
      "File \u001b[0;32m~/.local/lib/python3.8/site-packages/pytorch_tabnet/abstract_model.py:759\u001b[0m, in \u001b[0;36mTabModel._compute_feature_importances\u001b[0;34m(self, X)\u001b[0m\n\u001b[1;32m    750\u001b[0m \u001b[38;5;28;01mdef\u001b[39;00m \u001b[38;5;21m_compute_feature_importances\u001b[39m(\u001b[38;5;28mself\u001b[39m, X):\n\u001b[1;32m    751\u001b[0m \u001b[38;5;250m    \u001b[39m\u001b[38;5;124;03m\"\"\"Compute global feature importance.\u001b[39;00m\n\u001b[1;32m    752\u001b[0m \n\u001b[1;32m    753\u001b[0m \u001b[38;5;124;03m    Parameters\u001b[39;00m\n\u001b[0;32m   (...)\u001b[0m\n\u001b[1;32m    757\u001b[0m \n\u001b[1;32m    758\u001b[0m \u001b[38;5;124;03m    \"\"\"\u001b[39;00m\n\u001b[0;32m--> 759\u001b[0m     M_explain, _ \u001b[38;5;241m=\u001b[39m \u001b[38;5;28;43mself\u001b[39;49m\u001b[38;5;241;43m.\u001b[39;49m\u001b[43mexplain\u001b[49m\u001b[43m(\u001b[49m\u001b[43mX\u001b[49m\u001b[43m,\u001b[49m\u001b[43m \u001b[49m\u001b[43mnormalize\u001b[49m\u001b[38;5;241;43m=\u001b[39;49m\u001b[38;5;28;43;01mFalse\u001b[39;49;00m\u001b[43m)\u001b[49m\n\u001b[1;32m    760\u001b[0m     sum_explain \u001b[38;5;241m=\u001b[39m M_explain\u001b[38;5;241m.\u001b[39msum(axis\u001b[38;5;241m=\u001b[39m\u001b[38;5;241m0\u001b[39m)\n\u001b[1;32m    761\u001b[0m     feature_importances_ \u001b[38;5;241m=\u001b[39m sum_explain \u001b[38;5;241m/\u001b[39m np\u001b[38;5;241m.\u001b[39msum(sum_explain)\n",
      "File \u001b[0;32m~/.local/lib/python3.8/site-packages/pytorch_tabnet/abstract_model.py:369\u001b[0m, in \u001b[0;36mTabModel.explain\u001b[0;34m(self, X, normalize)\u001b[0m\n\u001b[1;32m    367\u001b[0m     \u001b[38;5;28;01melse\u001b[39;00m:\n\u001b[1;32m    368\u001b[0m         \u001b[38;5;28;01mfor\u001b[39;00m key, value \u001b[38;5;129;01min\u001b[39;00m masks\u001b[38;5;241m.\u001b[39mitems():\n\u001b[0;32m--> 369\u001b[0m             res_masks[key] \u001b[38;5;241m=\u001b[39m \u001b[43mnp\u001b[49m\u001b[38;5;241;43m.\u001b[39;49m\u001b[43mvstack\u001b[49m\u001b[43m(\u001b[49m\u001b[43m[\u001b[49m\u001b[43mres_masks\u001b[49m\u001b[43m[\u001b[49m\u001b[43mkey\u001b[49m\u001b[43m]\u001b[49m\u001b[43m,\u001b[49m\u001b[43m \u001b[49m\u001b[43mvalue\u001b[49m\u001b[43m]\u001b[49m\u001b[43m)\u001b[49m\n\u001b[1;32m    371\u001b[0m res_explain \u001b[38;5;241m=\u001b[39m np\u001b[38;5;241m.\u001b[39mvstack(res_explain)\n\u001b[1;32m    373\u001b[0m \u001b[38;5;28;01mif\u001b[39;00m normalize:\n",
      "File \u001b[0;32m<__array_function__ internals>:180\u001b[0m, in \u001b[0;36mvstack\u001b[0;34m(*args, **kwargs)\u001b[0m\n",
      "File \u001b[0;32m~/.local/lib/python3.8/site-packages/numpy/core/shape_base.py:282\u001b[0m, in \u001b[0;36mvstack\u001b[0;34m(tup)\u001b[0m\n\u001b[1;32m    280\u001b[0m \u001b[38;5;28;01mif\u001b[39;00m \u001b[38;5;129;01mnot\u001b[39;00m \u001b[38;5;28misinstance\u001b[39m(arrs, \u001b[38;5;28mlist\u001b[39m):\n\u001b[1;32m    281\u001b[0m     arrs \u001b[38;5;241m=\u001b[39m [arrs]\n\u001b[0;32m--> 282\u001b[0m \u001b[38;5;28;01mreturn\u001b[39;00m \u001b[43m_nx\u001b[49m\u001b[38;5;241;43m.\u001b[39;49m\u001b[43mconcatenate\u001b[49m\u001b[43m(\u001b[49m\u001b[43marrs\u001b[49m\u001b[43m,\u001b[49m\u001b[43m \u001b[49m\u001b[38;5;241;43m0\u001b[39;49m\u001b[43m)\u001b[49m\n",
      "File \u001b[0;32m<__array_function__ internals>:180\u001b[0m, in \u001b[0;36mconcatenate\u001b[0;34m(*args, **kwargs)\u001b[0m\n",
      "\u001b[0;31mKeyboardInterrupt\u001b[0m: "
     ]
    }
   ],
   "source": [
    "tab_clf.fit(\n",
    "    X_train, y_train,\n",
    "    eval_set=[(X_val, y_val)],\n",
    "    max_epochs=10,\n",
    ")"
   ]
  },
  {
   "cell_type": "markdown",
   "id": "0c0d7634-186c-451b-b832-a78975157feb",
   "metadata": {},
   "source": [
    "### The above cell had to be stopped manually after the completion of all the epochs."
   ]
  },
  {
   "cell_type": "code",
   "execution_count": 30,
   "id": "20f51af0-1134-4525-a016-add69289912f",
   "metadata": {},
   "outputs": [],
   "source": [
    "y_pred = tab_clf.predict(X_test)"
   ]
  },
  {
   "cell_type": "code",
   "execution_count": 31,
   "id": "57baf53a-ebf6-4a62-b32f-8a5fb921dc83",
   "metadata": {},
   "outputs": [
    {
     "name": "stdout",
     "output_type": "stream",
     "text": [
      "Testing accuracy: 0.873357523670623\n",
      "Testing f1-score: 0.8166960724528387\n"
     ]
    }
   ],
   "source": [
    "print(f\"Testing accuracy: {accuracy_score(y_test, y_pred)}\")\n",
    "print(f\"Testing f1-score: {f1_score(y_test, y_pred)}\")"
   ]
  },
  {
   "cell_type": "code",
   "execution_count": 32,
   "id": "4dac336b-2526-499e-a8bf-f70f1bc90255",
   "metadata": {},
   "outputs": [
    {
     "data": {
      "image/png": "[encoded data removed]",
      "text/plain": [
       "<Figure size 640x480 with 2 Axes>"
      ]
     },
     "metadata": {},
     "output_type": "display_data"
    }
   ],
   "source": [
    "plot_confusion_matrix(y_test, y_pred)"
   ]
  },
  {
   "cell_type": "markdown",
   "id": "7e2b5b61",
   "metadata": {},
   "source": [
    "---\n",
    "## Ensembling TabNet Classifiers"
   ]
  },
  {
   "cell_type": "code",
   "execution_count": 33,
   "id": "abbdc4bc",
   "metadata": {},
   "outputs": [
    {
     "name": "stderr",
     "output_type": "stream",
     "text": [
      "INFO:sklearnex: sklearn.utils.validation._assert_all_finite: fallback to original Scikit-learn\n",
      "2023-09-02 02:04:59,497 - sklearnex - INFO - sklearn.utils.validation._assert_all_finite: fallback to original Scikit-learn\n",
      "INFO:sklearnex: sklearn.utils.validation._assert_all_finite: fallback to original Scikit-learn\n",
      "2023-09-02 02:04:59,499 - sklearnex - INFO - sklearn.utils.validation._assert_all_finite: fallback to original Scikit-learn\n",
      "INFO:sklearnex: sklearn.model_selection.train_test_split: running accelerated version on CPU\n",
      "2023-09-02 02:05:00,221 - sklearnex - INFO - sklearn.model_selection.train_test_split: running accelerated version on CPU\n",
      "INFO:sklearnex: sklearn.model_selection.train_test_split: running accelerated version on CPU\n",
      "2023-09-02 02:05:00,844 - sklearnex - INFO - sklearn.model_selection.train_test_split: running accelerated version on CPU\n",
      "INFO:sklearnex: sklearn.utils.validation._assert_all_finite: fallback to original Scikit-learn\n",
      "2023-09-02 02:05:00,972 - sklearnex - INFO - sklearn.utils.validation._assert_all_finite: fallback to original Scikit-learn\n",
      "INFO:sklearnex: sklearn.utils.validation._assert_all_finite: fallback to original Scikit-learn\n",
      "2023-09-02 02:05:00,973 - sklearnex - INFO - sklearn.utils.validation._assert_all_finite: fallback to original Scikit-learn\n",
      "INFO:sklearnex: sklearn.model_selection.train_test_split: running accelerated version on CPU\n",
      "2023-09-02 02:05:01,366 - sklearnex - INFO - sklearn.model_selection.train_test_split: running accelerated version on CPU\n",
      "INFO:sklearnex: sklearn.model_selection.train_test_split: running accelerated version on CPU\n",
      "2023-09-02 02:05:01,758 - sklearnex - INFO - sklearn.model_selection.train_test_split: running accelerated version on CPU\n"
     ]
    }
   ],
   "source": [
    "X_train_1, X_temp, y_train_1, y_temp = tts(X_train, y_train, test_size=.66, stratify=y_train, random_state=42)\n",
    "X_train_2, X_train_3, y_train_2, y_train_3 = tts(X_temp, y_temp, test_size=.5, stratify=y_temp, random_state=42)"
   ]
  },
  {
   "cell_type": "code",
   "execution_count": 34,
   "id": "874ffea4",
   "metadata": {},
   "outputs": [],
   "source": [
    "def train_tabnet(X_train_, y_train_):\n",
    "    clf = TabNetClassifier()\n",
    "    clf.fit(\n",
    "        X_train_, y_train_,\n",
    "        max_epochs=5,\n",
    "    )\n",
    "    return clf\n",
    "\n",
    "def ensemble(Xs, ys):\n",
    "    clfs = [train_tabnet(Xs[i], ys[i]) for i in range(len(Xs))]\n",
    "    return clfs"
   ]
  },
  {
   "cell_type": "code",
   "execution_count": 35,
   "id": "d58e3ad0",
   "metadata": {},
   "outputs": [],
   "source": [
    "Xs = [X_train_1, X_train_2, X_train_3]\n",
    "ys = [y_train_1, y_train_2, y_train_3]"
   ]
  },
  {
   "cell_type": "code",
   "execution_count": 36,
   "id": "efd3c8df",
   "metadata": {},
   "outputs": [
    {
     "name": "stderr",
     "output_type": "stream",
     "text": [
      "INFO:sklearnex: sklearn.utils.validation._assert_all_finite: running accelerated version on CPU\n",
      "2023-09-02 02:05:09,015 - sklearnex - INFO - sklearn.utils.validation._assert_all_finite: running accelerated version on CPU\n"
     ]
    },
    {
     "name": "stdout",
     "output_type": "stream",
     "text": [
      "epoch 0  | loss: 0.35126 |  0:00:28s\n",
      "epoch 1  | loss: 0.31382 |  0:01:01s\n",
      "epoch 2  | loss: 0.30991 |  0:01:34s\n",
      "epoch 3  | loss: 0.30572 |  0:02:06s\n",
      "epoch 4  | loss: 0.30247 |  0:02:39s\n"
     ]
    },
    {
     "name": "stderr",
     "output_type": "stream",
     "text": [
      "INFO:sklearnex: sklearn.utils.validation._assert_all_finite: running accelerated version on CPU\n",
      "2023-09-02 02:09:49,600 - sklearnex - INFO - sklearn.utils.validation._assert_all_finite: running accelerated version on CPU\n"
     ]
    },
    {
     "name": "stdout",
     "output_type": "stream",
     "text": [
      "epoch 0  | loss: 0.34968 |  0:00:31s\n",
      "epoch 1  | loss: 0.31371 |  0:01:03s\n",
      "epoch 2  | loss: 0.30683 |  0:01:34s\n",
      "epoch 3  | loss: 0.30373 |  0:02:06s\n",
      "epoch 4  | loss: 0.30315 |  0:02:37s\n"
     ]
    },
    {
     "name": "stderr",
     "output_type": "stream",
     "text": [
      "INFO:sklearnex: sklearn.utils.validation._assert_all_finite: running accelerated version on CPU\n",
      "2023-09-02 02:13:39,832 - sklearnex - INFO - sklearn.utils.validation._assert_all_finite: running accelerated version on CPU\n"
     ]
    },
    {
     "name": "stdout",
     "output_type": "stream",
     "text": [
      "epoch 0  | loss: 0.35203 |  0:00:31s\n",
      "epoch 1  | loss: 0.31159 |  0:01:03s\n",
      "epoch 2  | loss: 0.30437 |  0:01:34s\n",
      "epoch 3  | loss: 0.29881 |  0:02:06s\n",
      "epoch 4  | loss: 0.29678 |  0:02:37s\n"
     ]
    }
   ],
   "source": [
    "clfs = ensemble(Xs, ys)"
   ]
  },
  {
   "cell_type": "code",
   "execution_count": 37,
   "id": "1f540d1e",
   "metadata": {},
   "outputs": [],
   "source": [
    "y_preds = []\n",
    "for each in clfs:\n",
    "    y_preds.append(each.predict(X_valtest))"
   ]
  },
  {
   "cell_type": "code",
   "execution_count": 38,
   "id": "4e72294c",
   "metadata": {},
   "outputs": [],
   "source": [
    "y_final = []\n",
    "for each in range(len(y_valtest)):\n",
    "    y_final.append(mode([y[each] for y in y_preds]))"
   ]
  },
  {
   "cell_type": "code",
   "execution_count": 39,
   "id": "f1bfa89b",
   "metadata": {},
   "outputs": [
    {
     "name": "stdout",
     "output_type": "stream",
     "text": [
      "Testing accuracy: 0.8739747127828634\n",
      "Testing f1-score: 0.8178650832256807\n"
     ]
    }
   ],
   "source": [
    "print(f\"Testing accuracy: {accuracy_score(y_valtest, y_final)}\")\n",
    "print(f\"Testing f1-score: {f1_score(y_valtest, y_final)}\")"
   ]
  },
  {
   "cell_type": "code",
   "execution_count": 40,
   "id": "04bb72f9",
   "metadata": {},
   "outputs": [
    {
     "data": {
      "image/png": "[encoded data removed]",
      "text/plain": [
       "<Figure size 640x480 with 2 Axes>"
      ]
     },
     "metadata": {},
     "output_type": "display_data"
    }
   ],
   "source": [
    "plot_confusion_matrix(y_valtest, y_final)"
   ]
  },
  {
   "cell_type": "code",
   "execution_count": null,
   "id": "7b575db3",
   "metadata": {},
   "outputs": [],
   "source": []
  }
 ],
 "metadata": {
  "kernelspec": {
   "display_name": "Python 3 (ipykernel)",
   "language": "python",
   "name": "python3"
  },
  "language_info": {
   "codemirror_mode": {
    "name": "ipython",
    "version": 3
   },
   "file_extension": ".py",
   "mimetype": "text/x-python",
   "name": "python",
   "nbconvert_exporter": "python",
   "pygments_lexer": "ipython3",
   "version": "3.8.10"
  }
 },
 "nbformat": 4,
 "nbformat_minor": 5
}
